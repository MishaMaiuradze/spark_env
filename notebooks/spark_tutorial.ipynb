{
 "cells": [
  {
   "cell_type": "markdown",
   "id": "1d686e21",
   "metadata": {},
   "source": [
    "# VS Code Jupyter Connection Setup\n",
    "\n",
    "## To connect VS Code to this Docker Jupyter server:\n",
    "\n",
    "1. **Install Extensions**: Make sure you have \"Jupyter\" and \"Python\" extensions installed in VS Code\n",
    "2. **Open Command Palette**: Press `Ctrl+Shift+P` (Windows) or `Cmd+Shift+P` (Mac)\n",
    "3. **Select Jupyter Server**: Type \"Jupyter: Select Interpreter to Start Jupyter Server\"\n",
    "4. **Choose Existing Server**: Select \"Existing\" when prompted\n",
    "5. **Enter Server URL**: Use `http://localhost:8888` (or `http://localhost:8080` if that's where it's running)\n",
    "6. **No Password**: Leave password field empty (configured with no authentication)\n",
    "\n",
    "**Alternative Method:**\n",
    "- Click on the kernel picker in the top-right of any `.ipynb` file\n",
    "- Select \"Select Another Kernel...\"\n",
    "- Choose \"Existing Jupyter Server\"\n",
    "- Enter: `http://localhost:8888`"
   ]
  },
  {
   "cell_type": "markdown",
   "id": "fcb41495",
   "metadata": {},
   "source": [
    "# PySpark Tutorial - SQL Server to Parquet\n",
    "\n",
    "This notebook demonstrates how to extract data from SQL Server and save it as Parquet files using PySpark in a Docker environment."
   ]
  },
  {
   "cell_type": "markdown",
   "id": "e7b148d2",
   "metadata": {},
   "source": [
    "## 1. Import Required Libraries\n",
    "\n",
    "First, let's import the necessary libraries for our data extraction process."
   ]
  },
  {
   "cell_type": "code",
   "execution_count": null,
   "id": "998071e0",
   "metadata": {},
   "outputs": [
    {
     "name": "stdout",
     "output_type": "stream",
     "text": [
      "Libraries imported successfully!\n"
     ]
    }
   ],
   "source": [
    "import os\n",
    "import sys\n",
    "from dotenv import load_dotenv\n",
    "from pyspark.sql import SparkSession\n",
    "from pyspark.sql.functions import *\n",
    "from datetime import datetime\n",
    "\n",
    "# Load environment variables\n",
    "load_dotenv()\n",
    "\n",
    "print(\"Libraries imported successfully!\")"
   ]
  },
  {
   "cell_type": "code",
   "execution_count": 6,
   "id": "922be4ac-8158-4bb7-9929-039a4e5acfc4",
   "metadata": {},
   "outputs": [
    {
     "name": "stdout",
     "output_type": "stream",
     "text": [
      "True\n"
     ]
    }
   ],
   "source": [
    "env = load_dotenv()\n"
   ]
  },
  {
   "cell_type": "markdown",
   "id": "dc73c467",
   "metadata": {},
   "source": [
    "## 2. Create Spark Session\n",
    "\n",
    "Let's create a Spark session optimized for our Docker environment."
   ]
  },
  {
   "cell_type": "code",
   "execution_count": 7,
   "id": "bb96643c",
   "metadata": {},
   "outputs": [
    {
     "name": "stdout",
     "output_type": "stream",
     "text": [
      ":: loading settings :: url = jar:file:/opt/spark/jars/ivy-2.5.1.jar!/org/apache/ivy/core/settings/ivysettings.xml\n"
     ]
    },
    {
     "name": "stderr",
     "output_type": "stream",
     "text": [
      "Ivy Default Cache set to: /root/.ivy2/cache\n",
      "The jars for the packages stored in: /root/.ivy2/jars\n",
      "com.microsoft.sqlserver#mssql-jdbc added as a dependency\n",
      ":: resolving dependencies :: org.apache.spark#spark-submit-parent-44d3a2b0-dd3e-4ba2-9ecd-2c3f9ec3a5b1;1.0\n",
      "\tconfs: [default]\n",
      "\tfound com.microsoft.sqlserver#mssql-jdbc;12.2.0.jre8 in central\n",
      "downloading https://repo1.maven.org/maven2/com/microsoft/sqlserver/mssql-jdbc/12.2.0.jre8/mssql-jdbc-12.2.0.jre8.jar ...\n",
      "\t[SUCCESSFUL ] com.microsoft.sqlserver#mssql-jdbc;12.2.0.jre8!mssql-jdbc.jar (389ms)\n",
      ":: resolution report :: resolve 578ms :: artifacts dl 391ms\n",
      "\t:: modules in use:\n",
      "\tcom.microsoft.sqlserver#mssql-jdbc;12.2.0.jre8 from central in [default]\n",
      "\t---------------------------------------------------------------------\n",
      "\t|                  |            modules            ||   artifacts   |\n",
      "\t|       conf       | number| search|dwnlded|evicted|| number|dwnlded|\n",
      "\t---------------------------------------------------------------------\n",
      "\t|      default     |   1   |   1   |   1   |   0   ||   1   |   1   |\n",
      "\t---------------------------------------------------------------------\n",
      ":: retrieving :: org.apache.spark#spark-submit-parent-44d3a2b0-dd3e-4ba2-9ecd-2c3f9ec3a5b1\n",
      "\tconfs: [default]\n",
      "\t1 artifacts copied, 0 already retrieved (1406kB/3ms)\n",
      "25/09/26 17:41:07 WARN NativeCodeLoader: Unable to load native-hadoop library for your platform... using builtin-java classes where applicable\n",
      "Setting default log level to \"WARN\".\n",
      "To adjust logging level use sc.setLogLevel(newLevel). For SparkR, use setLogLevel(newLevel).\n"
     ]
    },
    {
     "name": "stdout",
     "output_type": "stream",
     "text": [
      "Spark version: 3.5.0\n",
      "Spark UI available at: http://localhost:4040\n"
     ]
    }
   ],
   "source": [
    "# Create Spark session with SQL Server JDBC driver\n",
    "spark = SparkSession.builder \\\n",
    "    .appName(\"NotebookSQLToParquet\") \\\n",
    "    .master(\"local[*]\") \\\n",
    "    .config(\"spark.sql.adaptive.enabled\", \"true\") \\\n",
    "    .config(\"spark.sql.adaptive.coalescePartitions.enabled\", \"true\") \\\n",
    "    .config(\"spark.jars.packages\", \"com.microsoft.sqlserver:mssql-jdbc:12.2.0.jre8\") \\\n",
    "    .getOrCreate()\n",
    "\n",
    "print(f\"Spark version: {spark.version}\")\n",
    "print(f\"Spark UI available at: http://localhost:4040\")"
   ]
  },
  {
   "cell_type": "markdown",
   "id": "0d277874",
   "metadata": {},
   "source": [
    "## 3. Test Spark with Sample Data\n",
    "\n",
    "Let's create a simple DataFrame to verify Spark is working correctly."
   ]
  },
  {
   "cell_type": "code",
   "execution_count": null,
   "id": "8f96cdeb",
   "metadata": {},
   "outputs": [],
   "source": [
    "# Create a test DataFrame\n",
    "test_data = [(\"Alice\", 25), (\"Bob\", 30), (\"Charlie\", 35)]\n",
    "columns = [\"Name\", \"Age\"]\n",
    "\n",
    "test_df = spark.createDataFrame(test_data, columns)\n",
    "test_df.show()\n",
    "\n",
    "print(f\"DataFrame has {test_df.count()} rows and {len(test_df.columns)} columns\")"
   ]
  },
  {
   "cell_type": "markdown",
   "id": "ac104561",
   "metadata": {},
   "source": [
    "## 4. Connect to SQL Server\n",
    "\n",
    "Now let's connect to your SQL Server and extract some real data."
   ]
  },
  {
   "cell_type": "code",
   "execution_count": null,
   "id": "931fc156",
   "metadata": {},
   "outputs": [],
   "source": [
    "# Get connection details from environment variables\n",
    "server = os.getenv(\"SQL_SERVER\", \"192.168.56.1\")\n",
    "database = os.getenv(\"SQL_DATABASE\", \"AdventureWorks2022\")\n",
    "username = os.getenv(\"SQL_USERNAME\", \"airbyte_user\")\n",
    "password = os.getenv(\"SQL_PASSWORD\", \"airbyte_user\")\n",
    "\n",
    "# Create JDBC URL\n",
    "jdbc_url = f\"jdbc:sqlserver://{server};databaseName={database};trustServerCertificate=true\"\n",
    "\n",
    "# Connection properties\n",
    "connection_properties = {\n",
    "    \"driver\": \"com.microsoft.sqlserver.jdbc.SQLServerDriver\",\n",
    "    \"user\": username,\n",
    "    \"password\": password\n",
    "}\n",
    "\n",
    "print(f\"Connecting to: {server}/{database}\")\n",
    "print(f\"JDBC URL: {jdbc_url}\")"
   ]
  },
  {
   "cell_type": "markdown",
   "id": "c69af151",
   "metadata": {},
   "source": [
    "## 5. Extract Data from SQL Server\n",
    "\n",
    "Let's extract some data from the Employee table."
   ]
  },
  {
   "cell_type": "code",
   "execution_count": null,
   "id": "91c6baee",
   "metadata": {},
   "outputs": [],
   "source": [
    "# Extract data from Employee table\n",
    "table_name = \"[HumanResources].[Employee]\"\n",
    "\n",
    "try:\n",
    "    df = spark.read.jdbc(\n",
    "        url=jdbc_url,\n",
    "        table=table_name,\n",
    "        properties=connection_properties\n",
    "    )\n",
    "    \n",
    "    print(f\"Successfully connected to SQL Server!\")\n",
    "    print(f\"Table: {table_name}\")\n",
    "    print(f\"Rows: {df.count()}\")\n",
    "    print(f\"Columns: {len(df.columns)}\")\n",
    "    \n",
    "    # Show schema\n",
    "    print(\"\\nSchema:\")\n",
    "    df.printSchema()\n",
    "    \n",
    "except Exception as e:\n",
    "    print(f\"Error connecting to SQL Server: {e}\")"
   ]
  },
  {
   "cell_type": "markdown",
   "id": "2c282468",
   "metadata": {},
   "source": [
    "## 6. Explore the Data\n",
    "\n",
    "Let's take a look at the first few rows of our data."
   ]
  },
  {
   "cell_type": "code",
   "execution_count": null,
   "id": "dafd90de",
   "metadata": {},
   "outputs": [],
   "source": [
    "# Show first 10 rows\n",
    "df.show(10)\n",
    "\n",
    "# Show specific columns\n",
    "df.select(\"BusinessEntityID\", \"JobTitle\", \"BirthDate\", \"HireDate\").show(10)"
   ]
  },
  {
   "cell_type": "markdown",
   "id": "db300793",
   "metadata": {},
   "source": [
    "## 7. Data Analysis with Spark SQL\n",
    "\n",
    "Let's perform some analysis using Spark SQL."
   ]
  },
  {
   "cell_type": "code",
   "execution_count": null,
   "id": "66ee9fab",
   "metadata": {},
   "outputs": [],
   "source": [
    "# Create a temporary view for SQL queries\n",
    "df.createOrReplaceTempView(\"employees\")\n",
    "\n",
    "# Count employees by job title\n",
    "job_counts = spark.sql(\"\"\"\n",
    "    SELECT JobTitle, COUNT(*) as employee_count\n",
    "    FROM employees \n",
    "    GROUP BY JobTitle \n",
    "    ORDER BY employee_count DESC\n",
    "\"\"\")\n",
    "\n",
    "print(\"Employee counts by job title:\")\n",
    "job_counts.show()"
   ]
  },
  {
   "cell_type": "markdown",
   "id": "4ea674d6",
   "metadata": {},
   "source": [
    "## 8. Save Data as Parquet\n",
    "\n",
    "Finally, let's save our data as a Parquet file with compression."
   ]
  },
  {
   "cell_type": "code",
   "execution_count": null,
   "id": "880f74f7",
   "metadata": {},
   "outputs": [],
   "source": [
    "# Add extraction timestamp\n",
    "df_with_timestamp = df.withColumn(\"extraction_timestamp\", \n",
    "                                 lit(datetime.now().strftime(\"%Y-%m-%d %H:%M:%S\")))\n",
    "\n",
    "# Save as Parquet with Snappy compression\n",
    "output_path = \"/data/output/employee_notebook.parquet\"\n",
    "\n",
    "df_with_timestamp.write \\\n",
    "    .option(\"compression\", \"snappy\") \\\n",
    "    .mode(\"overwrite\") \\\n",
    "    .parquet(output_path)\n",
    "\n",
    "print(f\"Data saved to: {output_path}\")\n",
    "print(f\"File will be available at: ./data/output/employee_notebook.parquet\")"
   ]
  },
  {
   "cell_type": "markdown",
   "id": "be7952e9",
   "metadata": {},
   "source": [
    "## 9. Verify Saved Data\n",
    "\n",
    "Let's read back the Parquet file to verify it was saved correctly."
   ]
  },
  {
   "cell_type": "code",
   "execution_count": null,
   "id": "9b5b8df9",
   "metadata": {},
   "outputs": [],
   "source": [
    "# Read the Parquet file back\n",
    "saved_df = spark.read.parquet(output_path)\n",
    "\n",
    "print(f\"Parquet file contains {saved_df.count()} rows\")\n",
    "print(\"Sample data from Parquet file:\")\n",
    "saved_df.select(\"BusinessEntityID\", \"JobTitle\", \"extraction_timestamp\").show(5)"
   ]
  },
  {
   "cell_type": "markdown",
   "id": "7140d1dd",
   "metadata": {},
   "source": [
    "## 10. Cleanup\n",
    "\n",
    "Don't forget to stop the Spark session when you're done."
   ]
  },
  {
   "cell_type": "code",
   "execution_count": null,
   "id": "47dd3b28",
   "metadata": {},
   "outputs": [],
   "source": [
    "# Stop Spark session\n",
    "# spark.stop()\n",
    "# print(\"Spark session stopped\")\n",
    "\n",
    "# Uncomment the lines above when you're completely done\n",
    "print(\"Notebook completed successfully!\")\n",
    "print(\"\\nNext steps:\")\n",
    "print(\"1. Check ./data/output/ for your Parquet files\")\n",
    "print(\"2. Visit http://localhost:4040 for Spark UI\")\n",
    "print(\"3. Experiment with different SQL queries and transformations\")"
   ]
  }
 ],
 "metadata": {
  "kernelspec": {
   "display_name": "Python 3 (ipykernel)",
   "language": "python",
   "name": "python3"
  },
  "language_info": {
   "codemirror_mode": {
    "name": "ipython",
    "version": 3
   },
   "file_extension": ".py",
   "mimetype": "text/x-python",
   "name": "python",
   "nbconvert_exporter": "python",
   "pygments_lexer": "ipython3",
   "version": "3.8.10"
  }
 },
 "nbformat": 4,
 "nbformat_minor": 5
}
