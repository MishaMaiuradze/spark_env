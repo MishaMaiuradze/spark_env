{
 "cells": [
  {
   "cell_type": "code",
   "execution_count": 3,
   "id": "99834dcf",
   "metadata": {},
   "outputs": [
    {
     "name": "stderr",
     "output_type": "stream",
     "text": [
      "Setting default log level to \"WARN\".\n",
      "To adjust logging level use sc.setLogLevel(newLevel). For SparkR, use setLogLevel(newLevel).\n",
      "25/09/29 17:07:31 WARN NativeCodeLoader: Unable to load native-hadoop library for your platform... using builtin-java classes where applicable\n",
      "25/09/29 17:07:32 WARN Utils: Service 'SparkUI' could not bind on port 4040. Attempting port 4041.\n"
     ]
    }
   ],
   "source": [
    "from pyspark.sql import SparkSession\n",
    "\n",
    "spark = (\n",
    "    SparkSession\n",
    "    .builder\n",
    "    .appName(\"Introduction to Spark\")\n",
    "    .master(\"local[*]\")\n",
    "    .getOrCreate()\n",
    ")"
   ]
  },
  {
   "cell_type": "code",
   "execution_count": 4,
   "id": "01dd4067",
   "metadata": {},
   "outputs": [
    {
     "data": {
      "text/html": [
       "\n",
       "            <div>\n",
       "                <p><b>SparkSession - in-memory</b></p>\n",
       "                \n",
       "        <div>\n",
       "            <p><b>SparkContext</b></p>\n",
       "\n",
       "            <p><a href=\"http://843e3fabd146:4041\">Spark UI</a></p>\n",
       "\n",
       "            <dl>\n",
       "              <dt>Version</dt>\n",
       "                <dd><code>v3.5.0</code></dd>\n",
       "              <dt>Master</dt>\n",
       "                <dd><code>local[*]</code></dd>\n",
       "              <dt>AppName</dt>\n",
       "                <dd><code>Introduction to Spark</code></dd>\n",
       "            </dl>\n",
       "        </div>\n",
       "        \n",
       "            </div>\n",
       "        "
      ],
      "text/plain": [
       "<pyspark.sql.session.SparkSession at 0x724842144ca0>"
      ]
     },
     "execution_count": 4,
     "metadata": {},
     "output_type": "execute_result"
    }
   ],
   "source": [
    "spark"
   ]
  },
  {
   "cell_type": "code",
   "execution_count": 5,
   "id": "d92ac314",
   "metadata": {},
   "outputs": [],
   "source": [
    "# Emp Data & Schema\n",
    "\n",
    "emp_data = [\n",
    "    [\"001\",\"101\",\"John Doe\",\"30\",\"Male\",\"50000\",\"2015-01-01\"],\n",
    "    [\"002\",\"101\",\"Jane Smith\",\"25\",\"Female\",\"45000\",\"2016-02-15\"],\n",
    "    [\"003\",\"102\",\"Bob Brown\",\"35\",\"Male\",\"55000\",\"2014-05-01\"],\n",
    "    [\"004\",\"102\",\"Alice Lee\",\"28\",\"Female\",\"48000\",\"2017-09-30\"],\n",
    "    [\"005\",\"103\",\"Jack Chan\",\"40\",\"Male\",\"60000\",\"2013-04-01\"],\n",
    "    [\"006\",\"103\",\"Jill Wong\",\"32\",\"Female\",\"52000\",\"2018-07-01\"],\n",
    "    [\"007\",\"101\",\"James Johnson\",\"42\",\"Male\",\"70000\",\"2012-03-15\"],\n",
    "    [\"008\",\"102\",\"Kate Kim\",\"29\",\"Female\",\"51000\",\"2019-10-01\"],\n",
    "    [\"009\",\"103\",\"Tom Tan\",\"33\",\"Male\",\"58000\",\"2016-06-01\"],\n",
    "    [\"010\",\"104\",\"Lisa Lee\",\"27\",\"Female\",\"47000\",\"2018-08-01\"],\n",
    "    [\"011\",\"104\",\"David Park\",\"38\",\"Male\",\"65000\",\"2015-11-01\"],\n",
    "    [\"012\",\"105\",\"Susan Chen\",\"31\",\"Female\",\"54000\",\"2017-02-15\"],\n",
    "    [\"013\",\"106\",\"Brian Kim\",\"45\",\"Male\",\"75000\",\"2011-07-01\"],\n",
    "    [\"014\",\"107\",\"Emily Lee\",\"26\",\"Female\",\"46000\",\"2019-01-01\"],\n",
    "    [\"015\",\"106\",\"Michael Lee\",\"37\",\"Male\",\"63000\",\"2014-09-30\"],\n",
    "    [\"016\",\"107\",\"Kelly Zhang\",\"30\",\"Female\",\"49000\",\"2018-04-01\"],\n",
    "    [\"017\",\"105\",\"George Wang\",\"34\",\"Male\",\"57000\",\"2016-03-15\"],\n",
    "    [\"018\",\"104\",\"Nancy Liu\",\"29\",\"\",\"50000\",\"2017-06-01\"],\n",
    "    [\"019\",\"103\",\"Steven Chen\",\"36\",\"Male\",\"62000\",\"2015-08-01\"],\n",
    "    [\"020\",\"102\",\"Grace Kim\",\"32\",\"Female\",\"53000\",\"2018-11-01\"]\n",
    "]\n",
    "\n",
    "emp_schema = \"employee_id string, department_id string, name string, age string, gender string, salary string, hire_date string\""
   ]
  },
  {
   "cell_type": "code",
   "execution_count": 6,
   "id": "b58640ab",
   "metadata": {},
   "outputs": [],
   "source": [
    "emp =  spark.createDataFrame(data=emp_data, schema=emp_schema)"
   ]
  },
  {
   "cell_type": "code",
   "execution_count": 11,
   "id": "f748a131",
   "metadata": {},
   "outputs": [
    {
     "name": "stdout",
     "output_type": "stream",
     "text": [
      "+-----------+-------------+----------+---+------+------+----------+\n",
      "|employee_id|department_id|      name|age|gender|salary| hire_date|\n",
      "+-----------+-------------+----------+---+------+------+----------+\n",
      "|        001|          101|  John Doe| 30|  Male| 50000|2015-01-01|\n",
      "|        002|          101|Jane Smith| 25|Female| 45000|2016-02-15|\n",
      "|        003|          102| Bob Brown| 35|  Male| 55000|2014-05-01|\n",
      "|        004|          102| Alice Lee| 28|Female| 48000|2017-09-30|\n",
      "|        005|          103| Jack Chan| 40|  Male| 60000|2013-04-01|\n",
      "+-----------+-------------+----------+---+------+------+----------+\n",
      "only showing top 5 rows\n",
      "\n"
     ]
    }
   ],
   "source": [
    "emp.show(5)"
   ]
  },
  {
   "cell_type": "code",
   "execution_count": 35,
   "id": "ab196f0e",
   "metadata": {},
   "outputs": [
    {
     "data": {
      "text/plain": [
       "4"
      ]
     },
     "execution_count": 35,
     "metadata": {},
     "output_type": "execute_result"
    }
   ],
   "source": [
    "emp.rdd.getNumPartitions()"
   ]
  },
  {
   "cell_type": "code",
   "execution_count": 19,
   "id": "3d0ead2d",
   "metadata": {},
   "outputs": [
    {
     "name": "stdout",
     "output_type": "stream",
     "text": [
      "+-----------+-------------+----------+---+------+------+----------+\n",
      "|employee_id|department_id|      name|age|gender|salary| hire_date|\n",
      "+-----------+-------------+----------+---+------+------+----------+\n",
      "|        001|          101|  John Doe| 30|  Male| 50000|2015-01-01|\n",
      "|        002|          101|Jane Smith| 25|Female| 45000|2016-02-15|\n",
      "|        003|          102| Bob Brown| 35|  Male| 55000|2014-05-01|\n",
      "|        004|          102| Alice Lee| 28|Female| 48000|2017-09-30|\n",
      "|        005|          103| Jack Chan| 40|  Male| 60000|2013-04-01|\n",
      "+-----------+-------------+----------+---+------+------+----------+\n",
      "only showing top 5 rows\n",
      "\n"
     ]
    }
   ],
   "source": [
    "emp.show(5)"
   ]
  },
  {
   "cell_type": "code",
   "execution_count": 34,
   "id": "b3ecf6d3",
   "metadata": {},
   "outputs": [
    {
     "name": "stdout",
     "output_type": "stream",
     "text": [
      "+-----------+-------------+-------------+---+------+------+----------+\n",
      "|employee_id|department_id|         name|age|gender|salary| hire_date|\n",
      "+-----------+-------------+-------------+---+------+------+----------+\n",
      "|        003|          102|    Bob Brown| 35|  Male| 55000|2014-05-01|\n",
      "|        005|          103|    Jack Chan| 40|  Male| 60000|2013-04-01|\n",
      "|        006|          103|    Jill Wong| 32|Female| 52000|2018-07-01|\n",
      "|        007|          101|James Johnson| 42|  Male| 70000|2012-03-15|\n",
      "|        009|          103|      Tom Tan| 33|  Male| 58000|2016-06-01|\n",
      "|        011|          104|   David Park| 38|  Male| 65000|2015-11-01|\n",
      "|        012|          105|   Susan Chen| 31|Female| 54000|2017-02-15|\n",
      "|        013|          106|    Brian Kim| 45|  Male| 75000|2011-07-01|\n",
      "|        015|          106|  Michael Lee| 37|  Male| 63000|2014-09-30|\n",
      "|        017|          105|  George Wang| 34|  Male| 57000|2016-03-15|\n",
      "|        019|          103|  Steven Chen| 36|  Male| 62000|2015-08-01|\n",
      "|        020|          102|    Grace Kim| 32|Female| 53000|2018-11-01|\n",
      "+-----------+-------------+-------------+---+------+------+----------+\n",
      "\n",
      "+-------------+-----+\n",
      "|department_id|count|\n",
      "+-------------+-----+\n",
      "|          101|    3|\n",
      "|          102|    4|\n",
      "|          103|    4|\n",
      "|          104|    3|\n",
      "|          107|    2|\n",
      "|          106|    2|\n",
      "|          105|    2|\n",
      "+-------------+-----+\n",
      "\n"
     ]
    }
   ],
   "source": [
    "# Register DataFrame as a temporary view\n",
    "emp.createOrReplaceTempView(\"employees\")\n",
    "\n",
    "# Run SQL queries\n",
    "spark.sql(\"SELECT * FROM employees WHERE age > 30\").show()\n",
    "spark.sql(\"SELECT department_id, COUNT(*) as count FROM employees GROUP BY department_id\").show()"
   ]
  },
  {
   "cell_type": "code",
   "execution_count": 21,
   "id": "f253f452",
   "metadata": {},
   "outputs": [
    {
     "name": "stdout",
     "output_type": "stream",
     "text": [
      "+-------------+-----+\n",
      "|department_id|count|\n",
      "+-------------+-----+\n",
      "|          102|    2|\n",
      "|          103|    4|\n",
      "|          101|    1|\n",
      "|          104|    1|\n",
      "|          106|    2|\n",
      "|          105|    2|\n",
      "+-------------+-----+\n",
      "\n",
      "+-----------+-------------+-------------+---+------+------+----------+-----------+-------------+-------------+---+------+------+----------+\n",
      "|employee_id|department_id|         name|age|gender|salary| hire_date|employee_id|department_id|         name|age|gender|salary| hire_date|\n",
      "+-----------+-------------+-------------+---+------+------+----------+-----------+-------------+-------------+---+------+------+----------+\n",
      "|        001|          101|     John Doe| 30|  Male| 50000|2015-01-01|        001|          101|     John Doe| 30|  Male| 50000|2015-01-01|\n",
      "|        001|          101|     John Doe| 30|  Male| 50000|2015-01-01|        002|          101|   Jane Smith| 25|Female| 45000|2016-02-15|\n",
      "|        001|          101|     John Doe| 30|  Male| 50000|2015-01-01|        007|          101|James Johnson| 42|  Male| 70000|2012-03-15|\n",
      "|        002|          101|   Jane Smith| 25|Female| 45000|2016-02-15|        001|          101|     John Doe| 30|  Male| 50000|2015-01-01|\n",
      "|        002|          101|   Jane Smith| 25|Female| 45000|2016-02-15|        002|          101|   Jane Smith| 25|Female| 45000|2016-02-15|\n",
      "|        002|          101|   Jane Smith| 25|Female| 45000|2016-02-15|        007|          101|James Johnson| 42|  Male| 70000|2012-03-15|\n",
      "|        007|          101|James Johnson| 42|  Male| 70000|2012-03-15|        001|          101|     John Doe| 30|  Male| 50000|2015-01-01|\n",
      "|        007|          101|James Johnson| 42|  Male| 70000|2012-03-15|        002|          101|   Jane Smith| 25|Female| 45000|2016-02-15|\n",
      "|        007|          101|James Johnson| 42|  Male| 70000|2012-03-15|        007|          101|James Johnson| 42|  Male| 70000|2012-03-15|\n",
      "|        003|          102|    Bob Brown| 35|  Male| 55000|2014-05-01|        003|          102|    Bob Brown| 35|  Male| 55000|2014-05-01|\n",
      "|        003|          102|    Bob Brown| 35|  Male| 55000|2014-05-01|        004|          102|    Alice Lee| 28|Female| 48000|2017-09-30|\n",
      "|        003|          102|    Bob Brown| 35|  Male| 55000|2014-05-01|        008|          102|     Kate Kim| 29|Female| 51000|2019-10-01|\n",
      "|        003|          102|    Bob Brown| 35|  Male| 55000|2014-05-01|        020|          102|    Grace Kim| 32|Female| 53000|2018-11-01|\n",
      "|        004|          102|    Alice Lee| 28|Female| 48000|2017-09-30|        003|          102|    Bob Brown| 35|  Male| 55000|2014-05-01|\n",
      "|        004|          102|    Alice Lee| 28|Female| 48000|2017-09-30|        004|          102|    Alice Lee| 28|Female| 48000|2017-09-30|\n",
      "|        004|          102|    Alice Lee| 28|Female| 48000|2017-09-30|        008|          102|     Kate Kim| 29|Female| 51000|2019-10-01|\n",
      "|        004|          102|    Alice Lee| 28|Female| 48000|2017-09-30|        020|          102|    Grace Kim| 32|Female| 53000|2018-11-01|\n",
      "|        008|          102|     Kate Kim| 29|Female| 51000|2019-10-01|        003|          102|    Bob Brown| 35|  Male| 55000|2014-05-01|\n",
      "|        008|          102|     Kate Kim| 29|Female| 51000|2019-10-01|        004|          102|    Alice Lee| 28|Female| 48000|2017-09-30|\n",
      "|        008|          102|     Kate Kim| 29|Female| 51000|2019-10-01|        008|          102|     Kate Kim| 29|Female| 51000|2019-10-01|\n",
      "+-----------+-------------+-------------+---+------+------+----------+-----------+-------------+-------------+---+------+------+----------+\n",
      "only showing top 20 rows\n",
      "\n"
     ]
    }
   ],
   "source": [
    "# These will show up in the SQL tab\n",
    "emp.filter(emp.age > 30).groupBy(\"department_id\").count().show()\n",
    "emp.join(emp.alias(\"e2\"), emp.department_id == emp.alias(\"e2\").department_id).show()"
   ]
  },
  {
   "cell_type": "code",
   "execution_count": 53,
   "id": "06eb81fe",
   "metadata": {},
   "outputs": [
    {
     "name": "stdout",
     "output_type": "stream",
     "text": [
      "+-----------+-------------+-------------+---+------+------+----------+\n",
      "|employee_id|department_id|         name|age|gender|salary| hire_date|\n",
      "+-----------+-------------+-------------+---+------+------+----------+\n",
      "|        003|          102|    Bob Brown| 35|  Male| 55000|2014-05-01|\n",
      "|        005|          103|    Jack Chan| 40|  Male| 60000|2013-04-01|\n",
      "|        006|          103|    Jill Wong| 32|Female| 52000|2018-07-01|\n",
      "|        007|          101|James Johnson| 42|  Male| 70000|2012-03-15|\n",
      "|        009|          103|      Tom Tan| 33|  Male| 58000|2016-06-01|\n",
      "+-----------+-------------+-------------+---+------+------+----------+\n",
      "only showing top 5 rows\n",
      "\n"
     ]
    }
   ],
   "source": [
    "emp_filtered = emp.filter(emp.age > 30)\n",
    "\n",
    "emp_filtered.write.format(\"csv\").mode(\"overwrite\").save(\"notebooks/pyspark-zero-to-hero-master/data/output/emp_filtered.csv\")\n",
    "emp_filtered.show(5)"
   ]
  }
 ],
 "metadata": {
  "kernelspec": {
   "display_name": "Python 3 (ipykernel)",
   "language": "python",
   "name": "python3"
  }
 },
 "nbformat": 4,
 "nbformat_minor": 5
}
